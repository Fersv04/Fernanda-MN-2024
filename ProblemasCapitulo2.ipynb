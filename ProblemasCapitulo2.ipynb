{
 "cells": [
  {
   "cell_type": "code",
   "execution_count": 71,
   "id": "1f1a7f3d",
   "metadata": {},
   "outputs": [],
   "source": [
    "import numpy as np\n",
    "import matplotlib.pyplot as plt\n",
    "plt.rcParams['text.usetex'] = True"
   ]
  },
  {
   "cell_type": "markdown",
   "id": "620ef434",
   "metadata": {},
   "source": [
    "# Problemas capítulo 2\n"
   ]
  },
  {
   "cell_type": "markdown",
   "id": "c84e848c",
   "metadata": {},
   "source": [
    "**Problema 2.3**\n",
    "\n",
    "This problem studies error propagation for specific examples. Specifically, at x = 2 find the: \n",
    "\n",
    "(a) absolute error in $f(x)=lnx$ for $\\tilde{x}$ = 1.9, \n",
    "\n",
    "(b) relative error in $f(x) = \\sqrt{2}$ for $\\tilde{x}$ = 1.95, and \n",
    "\n",
    "(c) backward error for $f(x) = e^x$ and $\\tilde{f}(2)= e^2 = 8$.\n",
    "\n",
    "***Solución***\n",
    "\n",
    "*Inciso (a)*\n",
    "\n",
    "Sabemos que\n",
    "\n",
    "$\\Delta y \\approx \\frac{df(x)}{dx}\\Delta x$\n",
    "\n",
    "donde $\\Delta x=\\tilde{x}-x$, en este caso $\\Delta x= 2-1.9=0.1$, y $\\frac{df(x)}{dx}=\\frac{1}{x}$, evaluando y sustituyendo:\n",
    "\n",
    "$\\Delta y \\approx \\frac{df(x)}{dx}\\Delta x=\\frac{0.1}{2}=0.05$\n",
    "\n",
    "*Inciso (b)*\n",
    "\n",
    "Sabemos que el error relativo es:\n",
    "\n",
    "$\\delta y=\\frac{x}{f(x)}\\frac{df(x)}{dx}\\delta x$\n",
    "\n",
    "donde $\\delta x=\\frac{\\tilde{x}-x}{x}=\\frac{1.95-2}{2}=-0.0125$, luego la derivada es $\\frac{df(x)}{dx}=\\frac{1}{2\\sqrt{x}}$, finalmente sustituimos y evaluamos:\n",
    "\n",
    "$\\delta y=\\frac{2}{\\sqrt{2}}\\frac{1}{2\\sqrt{2}}(-0.025)=-0.0125$\n",
    "\n",
    "*Inciso (c)*\n",
    "\n",
    "Sea $y=f(x)=e^x$, y $\\tilde{y}=\\tilde{f}(x)=e^2=8$, entonces:\n",
    "\n",
    "$\\tilde{x}-x=ln8-2=0.0794$"
   ]
  },
  {
   "cell_type": "markdown",
   "id": "253f8919",
   "metadata": {},
   "source": [
    "**Problema 2.6**\n",
    "\n",
    "\n",
    "Take the standard quadratic equation: $ax^2 + bx + c = 0$, whose solutions are:\n",
    "\n",
    "$$x\\pm = \\frac{-b\\pm \\sqrt{b^2-4ac}}{2a} $$\n",
    "\n",
    "Take $b > 0$ for concreteness. It is easy to see that when $b^2 \\gg ac$ we don’t get a catastrophic cancellation when evaluating $b^2 − 4ac$ (we may still get a “benign” cancellation). Furthermore, $\\sqrt{b^2 − 4ac }\\approx b$. However, this means that $x_{+}$ will involve catastrophic cancellation in the numerator. We will employ an analytical trick in order to help us preserve significant figures. Observe that the product of the two roots obeys the relation: $x_{+} x_{−} = c/a$. The answer now presents itself: use Eq. (2.93) tocalculate $x_{−}$,for which no catastrophic cancellation takes place.Then,use $x_{+}x_{−} = c/a$ to calculate $x_{+}$. Notice that you ended up calculating $x_{+}$ via division only (i.e., without a catastrophic cancellation). Write a Python code that evaluates and prints out: (a) $x_{−}$, (b) $x_{+}$ using the “bad” formula, and (c) $x_{+}$ using the “good” formula. Take $a = 1, c = 1, b = 10^8$. Discuss the answers.\n",
    "\n",
    "***Solución***\n",
    "\n",
    "Escribimos un programa que calcula las raices para una ecuación cuadrática."
   ]
  },
  {
   "cell_type": "code",
   "execution_count": 396,
   "id": "14037217",
   "metadata": {},
   "outputs": [
    {
     "name": "stdout",
     "output_type": "stream",
     "text": [
      "La raiz negativa es:  -1000000000.0\n",
      "La raiz positiva usando la ecuación general es:  0.0\n",
      "La raiz positiva usando la otra formula es:  -1e-09\n"
     ]
    }
   ],
   "source": [
    "#Definimos las variables para resolver el ejercicio, en este caso primero escribimos las constantes para la ecuación a resolver\n",
    "a=1\n",
    "b=10e8\n",
    "c=1\n",
    "#Llamamos a xp la raíz positiva y xn la raiz negativa resolviendo primero en la forma tradicional\n",
    "xp=(-b+np.sqrt(pow(b,2)-4*a*c))/(2*a)\n",
    "xn=(-b-np.sqrt(pow(b,2)-4*a*c))/(2*a)\n",
    "#Para encontrar a la raíz positiva se realiza con un simple despeje\n",
    "x=c/(a*xn)\n",
    "#Se imprime la ecuación que se resuleve junto con sus soluciones\n",
    "print(\"La raiz negativa es: \",xn)\n",
    "print(\"La raiz positiva usando la ecuación general es: \",xp)\n",
    "print(\"La raiz positiva usando la otra formula es: \",x)"
   ]
  },
  {
   "cell_type": "markdown",
   "id": "23262de2",
   "metadata": {},
   "source": [
    "**Problema 2.9**\n",
    "\n",
    "This problem focuses on analytical manipulations introduced in order to avoid\n",
    "a cancellation. Rewrite the following expressions in order to evaluate them for large x:\n",
    "\n",
    "(a) $\\sqrt{x+1}− \\sqrt{x}$, (b) $\\frac{1}{x+1}-\\frac{2}{x}+\\frac{1}{x−1}$, and (c) $\\frac{1}{\\sqrt{x}}-\\frac{1}{\\sqrt{x+1}}$.\n",
    "\n",
    "***Solución***"
   ]
  },
  {
   "cell_type": "markdown",
   "id": "63a1119b",
   "metadata": {},
   "source": [
    "**Problema 2.12**\n",
    "\n",
    "This problem studies the rational function introduced in the main text, Eq. (2.53).\n",
    "\n",
    "(a) Apply Horner’s rule twice(once for the numerator and once for the denominator) to produce two plots, one for $x = 1.606 + 2^{−52}i$ and one for $x = 2.400 + 2^{−52}i$. Your results should look like Fig. 2.3.\n",
    "\n",
    "(b) Create a new Python function that codes up the following expression:\n",
    "\n",
    "$$s(x)=4-\\frac{3(x-2)[(x-5)^2+4]}{x+(x-2)^2[(x-5)^2+3]}$$\n",
    "\n",
    "which is a rewritten version of our rational function. Apply this new function for the previous two plots and compare the rounding error pattern, size, etc.\n",
    "\n",
    "(c) Now introduce two more sets of results, this time for the starting expression for $r(x)$ produced using (not Horner’s rule but) the naive implementation, using powers (i.e., the way you would have coded this up before doing problem 2.11). Interpret your findings.\n",
    "\n",
    "\n",
    "***Solución***\n",
    "\n",
    "*Inciso (a)*\n",
    "\n",
    "La ecuación (2.53) es:\n",
    "\n",
    "$r(x)=\\frac{4x^4-59x^3+324x^2-751x+622}{x^4-14x^3+72x^2-151x+112}$\n",
    "\n",
    "Evaluamos el polinomio utilizando la regla de Horne, para el valor de  $𝑥=1.606+2^{−52}𝑖$  escribimos el siguiente codigo:\n",
    "\n",
    "Para el denominador"
   ]
  },
  {
   "cell_type": "code",
   "execution_count": 397,
   "id": "5e6525e4",
   "metadata": {},
   "outputs": [
    {
     "name": "stdout",
     "output_type": "stream",
     "text": [
      "(8.75237658077848+2.7019476053759343e-18j)\n"
     ]
    }
   ],
   "source": [
    "def r(a0,a1,a2,a3,a4,x0):\n",
    "    r=a0+x0*(a1+(x0*(a2+x0*(a3+x0*a4))))\n",
    "    return r\n",
    "rn=r(622,-751,324,-59,4,complex(1.606,pow(2,-52)))\n",
    "rd=r(112,-151,72,-14,1,complex(1.606,pow(2,-52)))\n",
    "rx=rn/rd\n",
    "print (rx)"
   ]
  },
  {
   "cell_type": "code",
   "execution_count": 185,
   "id": "1b62e64f",
   "metadata": {},
   "outputs": [
    {
     "data": {
      "image/png": "[encoded data removed]",
      "text/plain": [
       "<Figure size 640x480 with 1 Axes>"
      ]
     },
     "metadata": {},
     "output_type": "display_data"
    }
   ],
   "source": [
    "def plotex(xs,rx):\n",
    "    plt.xlabel(\"x\", fontsize=20)\n",
    "    plt.ylabel(\"f(x)\", fontsize=20)\n",
    "    plt.plot(xs, rx, \"o\", label=\"one function\") \n",
    "    plt.legend()\n",
    "    plt.show()\n",
    "xs = [i for i in range(80)] \n",
    "rx = [r(622,-751,324,-59,4,x) for x in xs]\n",
    "\n",
    "plotex(xs,rx)\n",
    "\n"
   ]
  },
  {
   "cell_type": "code",
   "execution_count": 402,
   "id": "8bfdde98",
   "metadata": {},
   "outputs": [
    {
     "name": "stdout",
     "output_type": "stream",
     "text": [
      "(8.752376580778488+2.7019476053841107e-18j)\n"
     ]
    }
   ],
   "source": [
    "def s(x):\n",
    "    s=4-(3*(x-2)*(pow(x-5,2)+4))/(x+(pow(x-2,2))*(pow(x-5,2)+3))\n",
    "    return s\n",
    "sx=s(complex(1.606,pow(2,-52)))\n",
    "print (sx)"
   ]
  },
  {
   "cell_type": "markdown",
   "id": "ee6ddc70",
   "metadata": {},
   "source": [
    "**Problema 2.15**\n",
    "\n",
    "Here we study the Basel problem, namely the sum of the reciprocals of the squares of the positive integers. This also happens to be a specific value of the Riemann zeta function, $\\zeta(2)$. The value can be calculated in a variety of ways and turns out to be:\n",
    "$$\\sum_{k=0}^{\\infty} \\frac{1}{k^2}=\\frac{\\pi^2}{6}=1.6449340668482264...$$\n",
    "Here we will use Python to compute partial sums.\n",
    "\n",
    "(a) Code this up by adding all the contributions from $k = 1, 2, $ up to some large integer; break out of the loop when the value of the sum stops changing. What is the value of the sum when this happens? Is there some meaning behind the value of the maximum integer (inverse squared) when this happens? Call this $nmaxd$.\n",
    "\n",
    "(b) We were summing the contributions from largest to smallest, so by the time we got to the really tiny contributions they stopped mattering. The obvious fix here is to reverse the order in which we are carrying out the sum. This has the advan- tage of dealing with the tiniest contributions first (you may have encountered the term “subnormal numbers” in appendix B). The disadvantage is that our previous strategy regarding termination (break out when the sum stops changing) doesn’t apply here: when summing in reverse the last few contributions are the largest in magnitude. Instead, simply pick a large maximum integer $nmaxr$ from the start. Be warned that this will start to take a long time, depending on the CPU you are using. Do a few runs for nmaxr a multiple of $nmaxd (4, 8, 16, 32)$. You should see the answer get (slowly) better. The beauty here is that the larger nmaxr, the better we can do. (Try increasing nmaxd for the direct method.)\n",
    "\n",
    "(c) Employ compensated summation to carry out the sum. The Kahan sum function does well, despite the fact that it carries out the sum in direct order, i.e., by starting from the largest contribution. We don’t have a nifty termination criterion, but increasing the number of terms can still make a difference."
   ]
  },
  {
   "cell_type": "code",
   "execution_count": 349,
   "id": "f05aafdc",
   "metadata": {},
   "outputs": [
    {
     "name": "stdout",
     "output_type": "stream",
     "text": [
      "1.644934057834575\n"
     ]
    }
   ],
   "source": [
    "#Hacemos un ciclo for para la función de Bessel\n",
    "def Basel(n):\n",
    "    b=0\n",
    "    for i in range (1,n+1,1):\n",
    "        b=b+1/i**2\n",
    "        \n",
    "    return b\n",
    "nmaxd=95000000\n",
    "print(Basel(nmaxd))"
   ]
  },
  {
   "cell_type": "code",
   "execution_count": 350,
   "id": "2b428ac9",
   "metadata": {},
   "outputs": [
    {
     "name": "stdout",
     "output_type": "stream",
     "text": [
      "1.6449340642166475\n"
     ]
    }
   ],
   "source": [
    "#Hacemos una función Basel que sume de reversa\n",
    "def Baselr(x):\n",
    "    br=0\n",
    "    for i in range (x,0,-1):\n",
    "        br=br+1/i**2\n",
    "    return br\n",
    "nmaxr=4*nmaxd\n",
    "print (Baselr(nmaxr))"
   ]
  },
  {
   "cell_type": "code",
   "execution_count": 361,
   "id": "d5970f6d",
   "metadata": {},
   "outputs": [
    {
     "name": "stdout",
     "output_type": "stream",
     "text": [
      "1.0999999999999999 1.1\n"
     ]
    }
   ],
   "source": [
    "#Hacemos la función de Basel empleando la suma de Kahan\n",
    "def kahansum(xs):\n",
    "    s = 0.; e = 0.\n",
    "    for x in xs:\n",
    "        temp = s\n",
    "        y=x+e\n",
    "        s = temp + y\n",
    "        e = (temp - s) + y\n",
    "    return s\n",
    "xs = [0.7, 0.1, 0.3]\n",
    "print(sum(xs), kahansum(xs))"
   ]
  },
  {
   "cell_type": "code",
   "execution_count": null,
   "id": "7c10bfb8",
   "metadata": {},
   "outputs": [],
   "source": []
  }
 ],
 "metadata": {
  "kernelspec": {
   "display_name": "Python 3 (ipykernel)",
   "language": "python",
   "name": "python3"
  },
  "language_info": {
   "codemirror_mode": {
    "name": "ipython",
    "version": 3
   },
   "file_extension": ".py",
   "mimetype": "text/x-python",
   "name": "python",
   "nbconvert_exporter": "python",
   "pygments_lexer": "ipython3",
   "version": "3.9.13"
  }
 },
 "nbformat": 4,
 "nbformat_minor": 5
}
